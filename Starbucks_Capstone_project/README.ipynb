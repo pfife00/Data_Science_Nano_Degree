{
 "cells": [
  {
   "cell_type": "markdown",
   "metadata": {},
   "source": [
    "<h1>Starbucks Capstone Challenge</h1>"
   ]
  },
  {
   "cell_type": "markdown",
   "metadata": {},
   "source": [
    "<h3>Installation</h3>"
   ]
  },
  {
   "cell_type": "markdown",
   "metadata": {},
   "source": [
    "The project requires <b> Python 3.x </b> and the following Python libraries installed:\n",
    "<ul>\n",
    "\n",
    "  <li> <a href=\"http://www.numpy.org/\" rel=\"nofollow\">NumPy</a> </li>\n",
    "  <li> <a href=\"http://pandas.pydata.org\" rel=\"nofollow\">Pandas</a> </li>\n",
    "  <li> <a href=\"https://seaborn.pydata.org/\" rel=\"nofollow\">seaborn: statistical data visualization </a> </li>\n",
    "  <li> <a href=\"https://matplotlib.org/\" rel=\"nofollow\">Matplotlib </a> </li>\n",
    "  <li> <a href=\"https://scikit-learn.org/stable/\" rel=\"nofollow\">scikit-learn </a> </li>\n",
    "  <li> <a href=\"https://lightgbm.readthedocs.io/en/latest/#\" rel=\"nofollow\">LightGBM</a> </li>\n",
    "\n",
    "</ul>"
   ]
  },
  {
   "cell_type": "markdown",
   "metadata": {},
   "source": [
    "<h3> Project Motivation </h3>"
   ]
  },
  {
   "cell_type": "markdown",
   "metadata": {},
   "source": [
    "This project is the Capstone project for the Udacity Data Science NanoDegree. The purpose to the project is to determine which demographic groups repsond to which type of offer. \n",
    "The data mimics customer behavior on the Starbucks rewards mobile app. Once every few days, Starbucks sends out an offer to users of the mobile app. An offer can be merely an advertisement for a drink or an actual offer such as a discount or BOGO (buy one get one free). Some users might not receive any offer during certain weeks. The object is to combine transaction, demographic and offer data to determine which demographic groups respond best to which offer type. "
   ]
  },
  {
   "cell_type": "markdown",
   "metadata": {},
   "source": [
    "<h3> File Descriptions </h3>"
   ]
  },
  {
   "cell_type": "markdown",
   "metadata": {},
   "source": [
    "The files required to run the function are organized as followed:\n",
    "<ul>\n",
    "    <li> Starbucks_Capstone_notebook.ipynb - Jupyter Notebook to run code and generate figures</li>\n",
    "    <li> clean_data.py - Helper file containing cleaning functions</li>\n",
    "    <li> visuals.py - Helper file containing plotting functions</li>\n",
    "</ul>\n"
   ]
  },
  {
   "cell_type": "markdown",
   "metadata": {},
   "source": [
    "<h3> Instructions to Load the JSON files </h3>"
   ]
  },
  {
   "cell_type": "markdown",
   "metadata": {},
   "source": [
    "According to the project introduction, pandas should be updated before reading in the files. This is because the version of pandas in the workspace cannot read in the transcript.json file correctly, but the newest version of pandas can. Refer to the project introduction in the Starbucks Capstone Challenge notebook file for instructions on how to update pandas to read in the data files."
   ]
  },
  {
   "cell_type": "markdown",
   "metadata": {},
   "source": [
    "<h3> Results </h3>"
   ]
  },
  {
   "cell_type": "markdown",
   "metadata": {},
   "source": [
    "\n",
    "The main findings of the code can be found at the post available here."
   ]
  },
  {
   "cell_type": "markdown",
   "metadata": {},
   "source": [
    "<h3>Licensing, Authors, Acknowledgments</h3>"
   ]
  },
  {
   "cell_type": "markdown",
   "metadata": {},
   "source": [
    "\n",
    "Credit should be given to Starbucks and Udacity for the data. Licensing for the data can be found at the Udacity Starbucks Capstone Challenge project description. "
   ]
  },
  {
   "cell_type": "code",
   "execution_count": null,
   "metadata": {},
   "outputs": [],
   "source": []
  }
 ],
 "metadata": {
  "kernelspec": {
   "display_name": "Python 3",
   "language": "python",
   "name": "python3"
  },
  "language_info": {
   "codemirror_mode": {
    "name": "ipython",
    "version": 3
   },
   "file_extension": ".py",
   "mimetype": "text/x-python",
   "name": "python",
   "nbconvert_exporter": "python",
   "pygments_lexer": "ipython3",
   "version": "3.6.5"
  }
 },
 "nbformat": 4,
 "nbformat_minor": 2
}
